{
 "cells": [
  {
   "cell_type": "markdown",
   "metadata": {},
   "source": [
    "# **Presidents and Interactive Stock Market Index**"
   ]
  },
  {
   "cell_type": "code",
   "execution_count": 4,
   "metadata": {},
   "outputs": [],
   "source": [
    "import numpy as np\n",
    "import pandas as pd\n",
    "from bqplot import *\n",
    "import datetime as dt\n",
    "from decimal import Decimal\n",
    "import xlrd\n",
    "from bqplot import pyplot as plt\n",
    "from ipywidgets import widgets,Button,HBox,VBox, Layout, Label\n",
    "from IPython.display import display"
   ]
  },
  {
   "cell_type": "markdown",
   "metadata": {},
   "source": [
    "## **Loading Data from Excel and Saving**"
   ]
  },
  {
   "cell_type": "code",
   "execution_count": 5,
   "metadata": {},
   "outputs": [
    {
     "ename": "FileNotFoundError",
     "evalue": "[Errno 2] No such file or directory: '.\\\\Bush-DJI.xlsx'",
     "output_type": "error",
     "traceback": [
      "\u001b[0;31m---------------------------------------------------------------------------\u001b[0m",
      "\u001b[0;31mFileNotFoundError\u001b[0m                         Traceback (most recent call last)",
      "\u001b[0;32m<ipython-input-5-212b5a12b985>\u001b[0m in \u001b[0;36m<module>\u001b[0;34m()\u001b[0m\n\u001b[1;32m      1\u001b[0m \u001b[0;31m#Loading excel spreadsheet\u001b[0m\u001b[0;34m\u001b[0m\u001b[0;34m\u001b[0m\u001b[0m\n\u001b[1;32m      2\u001b[0m \u001b[0mlocation\u001b[0m \u001b[0;34m=\u001b[0m \u001b[0;34m\".\\\\Bush-DJI.xlsx\"\u001b[0m\u001b[0;34m\u001b[0m\u001b[0m\n\u001b[0;32m----> 3\u001b[0;31m \u001b[0mBworkbook\u001b[0m \u001b[0;34m=\u001b[0m \u001b[0mxlrd\u001b[0m\u001b[0;34m.\u001b[0m\u001b[0mopen_workbook\u001b[0m\u001b[0;34m(\u001b[0m\u001b[0mlocation\u001b[0m\u001b[0;34m)\u001b[0m\u001b[0;34m\u001b[0m\u001b[0m\n\u001b[0m\u001b[1;32m      4\u001b[0m \u001b[0mBsheet\u001b[0m \u001b[0;34m=\u001b[0m \u001b[0mBworkbook\u001b[0m\u001b[0;34m.\u001b[0m\u001b[0msheet_by_index\u001b[0m\u001b[0;34m(\u001b[0m\u001b[0;36m0\u001b[0m\u001b[0;34m)\u001b[0m\u001b[0;34m\u001b[0m\u001b[0m\n\u001b[1;32m      5\u001b[0m \u001b[0;34m\u001b[0m\u001b[0m\n",
      "\u001b[0;32m/anaconda3/lib/python3.6/site-packages/xlrd/__init__.py\u001b[0m in \u001b[0;36mopen_workbook\u001b[0;34m(filename, logfile, verbosity, use_mmap, file_contents, encoding_override, formatting_info, on_demand, ragged_rows)\u001b[0m\n\u001b[1;32m    114\u001b[0m         \u001b[0mpeek\u001b[0m \u001b[0;34m=\u001b[0m \u001b[0mfile_contents\u001b[0m\u001b[0;34m[\u001b[0m\u001b[0;34m:\u001b[0m\u001b[0mpeeksz\u001b[0m\u001b[0;34m]\u001b[0m\u001b[0;34m\u001b[0m\u001b[0m\n\u001b[1;32m    115\u001b[0m     \u001b[0;32melse\u001b[0m\u001b[0;34m:\u001b[0m\u001b[0;34m\u001b[0m\u001b[0m\n\u001b[0;32m--> 116\u001b[0;31m         \u001b[0;32mwith\u001b[0m \u001b[0mopen\u001b[0m\u001b[0;34m(\u001b[0m\u001b[0mfilename\u001b[0m\u001b[0;34m,\u001b[0m \u001b[0;34m\"rb\"\u001b[0m\u001b[0;34m)\u001b[0m \u001b[0;32mas\u001b[0m \u001b[0mf\u001b[0m\u001b[0;34m:\u001b[0m\u001b[0;34m\u001b[0m\u001b[0m\n\u001b[0m\u001b[1;32m    117\u001b[0m             \u001b[0mpeek\u001b[0m \u001b[0;34m=\u001b[0m \u001b[0mf\u001b[0m\u001b[0;34m.\u001b[0m\u001b[0mread\u001b[0m\u001b[0;34m(\u001b[0m\u001b[0mpeeksz\u001b[0m\u001b[0;34m)\u001b[0m\u001b[0;34m\u001b[0m\u001b[0m\n\u001b[1;32m    118\u001b[0m     \u001b[0;32mif\u001b[0m \u001b[0mpeek\u001b[0m \u001b[0;34m==\u001b[0m \u001b[0;34mb\"PK\\x03\\x04\"\u001b[0m\u001b[0;34m:\u001b[0m \u001b[0;31m# a ZIP file\u001b[0m\u001b[0;34m\u001b[0m\u001b[0m\n",
      "\u001b[0;31mFileNotFoundError\u001b[0m: [Errno 2] No such file or directory: '.\\\\Bush-DJI.xlsx'"
     ]
    }
   ],
   "source": [
    "#Loading excel spreadsheet\n",
    "location = \"./Bush-DJI.xlsx\"\n",
    "Bworkbook = xlrd.open_workbook(location)\n",
    "Bsheet = Bworkbook.sheet_by_index(0)\n",
    "\n",
    "location2 = \"./Clinton-DJI.xlsx\"\n",
    "Cworkbook = xlrd.open_workbook(location2)\n",
    "Csheet = Cworkbook.sheet_by_index(0)\n",
    "\n",
    "location3 = \"./Obama-DJI.xlsx\"\n",
    "\n",
    "\n",
    "Oworkbook = xlrd.open_workbook(location3)\n",
    "Osheet = Oworkbook.sheet_by_index(0)\n",
    "#initializing arrays\n",
    "bP = []\n",
    "oP = []\n",
    "cP = []\n",
    "Oinfo = []\n",
    "Binfo = []\n",
    "Cinfo = []\n",
    "Bdate = np.array([],dtype='datetime64')\n",
    "Odate = np.array([],dtype='datetime64')\n",
    "Cdate = np.array([],dtype='datetime64')\n",
    "\n",
    "#adding excel information to array\n",
    "for row in range(1,2012):\n",
    "    Binfo.append (Bsheet.cell_value(row,2))\n",
    "for row in range(1,2015):\n",
    "    Oinfo.append(Osheet.cell_value(row,2))\n",
    "for row in range(1,2023):\n",
    "    Cinfo.append(Csheet.cell_value(row,2))\n",
    "for row in range(1,2012):\n",
    "    bP.append (Bsheet.cell_value(row,1))\n",
    "for row in range(1,2015):\n",
    "    oP.append(Osheet.cell_value(row,1))\n",
    "for row in range(1,2023):\n",
    "    cP.append(Csheet.cell_value(row,1))\n",
    "    \n",
    "#convert from excel number format to datetime format then to datetime64 format\n",
    "for row in range(1,2012):\n",
    "    formated_date=np.datetime64(xlrd.xldate.xldate_as_datetime(Bsheet.cell_value(row,0), Bworkbook.datemode))\n",
    "    Bdate=np.append(Bdate,formated_date)\n",
    "for row in range(1,2023):\n",
    "    formated_date=np.datetime64(xlrd.xldate.xldate_as_datetime(Csheet.cell_value(row,0), Cworkbook.datemode))\n",
    "    Cdate=np.append(Cdate,formated_date)\n",
    "for row in range(1,2015): \n",
    "    #formated_date=np.datetime64(xlrd.xldate.xldate_as_datetime(sheet.cell_value(row,0), workbook.datemode), 'D')\n",
    "    formated_date=np.datetime64(xlrd.xldate.xldate_as_datetime(Osheet.cell_value(row,0), Oworkbook.datemode))\n",
    "    Odate=np.append(Odate,formated_date)\n",
    "    "
   ]
  },
  {
   "cell_type": "markdown",
   "metadata": {},
   "source": [
    "**Adding Descriptions to Figure**"
   ]
  },
  {
   "cell_type": "code",
   "execution_count": 6,
   "metadata": {},
   "outputs": [
    {
     "ename": "NameError",
     "evalue": "name 'oP' is not defined",
     "output_type": "error",
     "traceback": [
      "\u001b[0;31m---------------------------------------------------------------------------\u001b[0m",
      "\u001b[0;31mNameError\u001b[0m                                 Traceback (most recent call last)",
      "\u001b[0;32m<ipython-input-6-56d9d2a2c058>\u001b[0m in \u001b[0;36m<module>\u001b[0;34m()\u001b[0m\n\u001b[0;32m----> 1\u001b[0;31m \u001b[0ms\u001b[0m \u001b[0;34m=\u001b[0m \u001b[0mlen\u001b[0m\u001b[0;34m(\u001b[0m\u001b[0moP\u001b[0m\u001b[0;34m)\u001b[0m\u001b[0;34m-\u001b[0m\u001b[0;36m1\u001b[0m\u001b[0;34m\u001b[0m\u001b[0m\n\u001b[0m\u001b[1;32m      2\u001b[0m \u001b[0moStart\u001b[0m \u001b[0;34m=\u001b[0m \u001b[0moP\u001b[0m\u001b[0;34m[\u001b[0m\u001b[0;36m0\u001b[0m\u001b[0;34m]\u001b[0m\u001b[0;34m\u001b[0m\u001b[0m\n\u001b[1;32m      3\u001b[0m \u001b[0moEnd\u001b[0m \u001b[0;34m=\u001b[0m \u001b[0moP\u001b[0m\u001b[0;34m[\u001b[0m\u001b[0ms\u001b[0m\u001b[0;34m]\u001b[0m\u001b[0;34m\u001b[0m\u001b[0m\n\u001b[1;32m      4\u001b[0m \u001b[0moChange\u001b[0m \u001b[0;34m=\u001b[0m \u001b[0mint\u001b[0m\u001b[0;34m(\u001b[0m\u001b[0;34m(\u001b[0m\u001b[0;34m(\u001b[0m\u001b[0moEnd\u001b[0m\u001b[0;34m-\u001b[0m\u001b[0moStart\u001b[0m\u001b[0;34m)\u001b[0m\u001b[0;34m/\u001b[0m\u001b[0moStart\u001b[0m\u001b[0;34m)\u001b[0m \u001b[0;34m*\u001b[0m\u001b[0;36m100\u001b[0m\u001b[0;34m)\u001b[0m\u001b[0;34m\u001b[0m\u001b[0m\n\u001b[1;32m      5\u001b[0m \u001b[0moDescription\u001b[0m \u001b[0;34m=\u001b[0m  \u001b[0;34m\"Start Value: \"\u001b[0m \u001b[0;34m+\u001b[0m \u001b[0mstr\u001b[0m\u001b[0;34m(\u001b[0m\u001b[0moStart\u001b[0m\u001b[0;34m)\u001b[0m \u001b[0;34m+\u001b[0m  \u001b[0;34m\"     End Value: \"\u001b[0m \u001b[0;34m+\u001b[0m \u001b[0mstr\u001b[0m\u001b[0;34m(\u001b[0m\u001b[0moEnd\u001b[0m\u001b[0;34m)\u001b[0m\u001b[0;34m+\u001b[0m \u001b[0;34m\"     Change: \"\u001b[0m \u001b[0;34m+\u001b[0m \u001b[0mstr\u001b[0m\u001b[0;34m(\u001b[0m\u001b[0moChange\u001b[0m\u001b[0;34m)\u001b[0m \u001b[0;34m+\u001b[0m \u001b[0;34m\"%\"\u001b[0m\u001b[0;34m\u001b[0m\u001b[0m\n",
      "\u001b[0;31mNameError\u001b[0m: name 'oP' is not defined"
     ]
    }
   ],
   "source": [
    "s = len(oP)-1\n",
    "oStart = oP[0]\n",
    "oEnd = oP[s]\n",
    "oChange = int(((oEnd-oStart)/oStart) *100)\n",
    "oDescription =  \"Start Value: \" + str(oStart) +  \"     End Value: \" + str(oEnd)+ \"     Change: \" + str(oChange) + \"%\"\n",
    "\n",
    "s = len(bP)-1\n",
    "bStart = bP[0]\n",
    "bEnd = bP[s]\n",
    "bChange = int(((bEnd-bStart)/bStart) *100)\n",
    "bDescription =  \"Start Value: \" + str(bStart) +  \"     End Value: \" + str(bEnd)+ \"     Change: \" + str(bChange) + \"%\"\n",
    "\n",
    "s = len(cP)-1\n",
    "cStart = cP[0]\n",
    "cEnd = cP[s]\n",
    "cChange = int(((cEnd-cStart)/cStart) *100)\n",
    "cDescription =  \"Start Value: \" + str(cStart) +  \"     End Value: \" + str(cEnd)+ \"     Change: \" + str(cChange) + \"%\"\n",
    "\n"
   ]
  },
  {
   "cell_type": "markdown",
   "metadata": {},
   "source": [
    "## **Creating a Figure and its interactions (bqPlot)**"
   ]
  },
  {
   "cell_type": "code",
   "execution_count": 7,
   "metadata": {},
   "outputs": [
    {
     "ename": "NameError",
     "evalue": "name 'Odate' is not defined",
     "output_type": "error",
     "traceback": [
      "\u001b[0;31m---------------------------------------------------------------------------\u001b[0m",
      "\u001b[0;31mNameError\u001b[0m                                 Traceback (most recent call last)",
      "\u001b[0;32m<ipython-input-7-5de97a615755>\u001b[0m in \u001b[0;36m<module>\u001b[0;34m()\u001b[0m\n\u001b[1;32m     13\u001b[0m \u001b[0;34m\u001b[0m\u001b[0m\n\u001b[1;32m     14\u001b[0m \u001b[0;31m#scatterplot and linearplot\u001b[0m\u001b[0;34m\u001b[0m\u001b[0;34m\u001b[0m\u001b[0m\n\u001b[0;32m---> 15\u001b[0;31m \u001b[0mline\u001b[0m \u001b[0;34m=\u001b[0m \u001b[0mScatter\u001b[0m\u001b[0;34m(\u001b[0m\u001b[0mx\u001b[0m\u001b[0;34m=\u001b[0m\u001b[0mOdate\u001b[0m\u001b[0;34m,\u001b[0m \u001b[0my\u001b[0m\u001b[0;34m=\u001b[0m\u001b[0moP\u001b[0m\u001b[0;34m,\u001b[0m \u001b[0mscales\u001b[0m\u001b[0;34m=\u001b[0m\u001b[0;34m{\u001b[0m\u001b[0;34m'x'\u001b[0m\u001b[0;34m:\u001b[0m \u001b[0mx_sc\u001b[0m\u001b[0;34m,\u001b[0m \u001b[0;34m'y'\u001b[0m\u001b[0;34m:\u001b[0m \u001b[0my_sc\u001b[0m\u001b[0;34m}\u001b[0m\u001b[0;34m,\u001b[0m\u001b[0mdefault_colors\u001b[0m\u001b[0;34m=\u001b[0m\u001b[0;34m[\u001b[0m\u001b[0;34m'#ff80ff'\u001b[0m\u001b[0;34m]\u001b[0m\u001b[0;34m,\u001b[0m\u001b[0mtooltip\u001b[0m \u001b[0;34m=\u001b[0m \u001b[0mtt\u001b[0m\u001b[0;34m,\u001b[0m \u001b[0mnames\u001b[0m\u001b[0;34m=\u001b[0m\u001b[0mOinfo\u001b[0m\u001b[0;34m,\u001b[0m \u001b[0mdisplay_names\u001b[0m \u001b[0;34m=\u001b[0m \u001b[0;32mFalse\u001b[0m\u001b[0;34m,\u001b[0m \u001b[0minteractions\u001b[0m \u001b[0;34m=\u001b[0m \u001b[0;34m{\u001b[0m\u001b[0;34m'hover'\u001b[0m\u001b[0;34m:\u001b[0m\u001b[0;34m'tooltip'\u001b[0m\u001b[0;34m}\u001b[0m\u001b[0;34m)\u001b[0m\u001b[0;34m\u001b[0m\u001b[0m\n\u001b[0m\u001b[1;32m     16\u001b[0m \u001b[0mline2\u001b[0m \u001b[0;34m=\u001b[0m \u001b[0mLines\u001b[0m\u001b[0;34m(\u001b[0m\u001b[0mx\u001b[0m\u001b[0;34m=\u001b[0m\u001b[0mOdate\u001b[0m\u001b[0;34m,\u001b[0m \u001b[0my\u001b[0m\u001b[0;34m=\u001b[0m\u001b[0moP\u001b[0m\u001b[0;34m,\u001b[0m \u001b[0mscales\u001b[0m\u001b[0;34m=\u001b[0m\u001b[0;34m{\u001b[0m\u001b[0;34m'x'\u001b[0m\u001b[0;34m:\u001b[0m \u001b[0mx_sc\u001b[0m\u001b[0;34m,\u001b[0m \u001b[0;34m'y'\u001b[0m\u001b[0;34m:\u001b[0m \u001b[0my_sc\u001b[0m\u001b[0;34m}\u001b[0m\u001b[0;34m)\u001b[0m\u001b[0;34m\u001b[0m\u001b[0m\n\u001b[1;32m     17\u001b[0m \u001b[0;34m\u001b[0m\u001b[0m\n",
      "\u001b[0;31mNameError\u001b[0m: name 'Odate' is not defined"
     ]
    }
   ],
   "source": [
    "#creating scales \n",
    "x_sc = DateScale()\n",
    "x_sc.min  = np.datetime64('2008-10-01')\n",
    "x_sc.max  = np.datetime64('2017-05-01')\n",
    "y_sc = LinearScale()\n",
    "\n",
    "#creating axis\n",
    "a_x = Axis(label=' Years', scale=x_sc, color = 'black', grid_lines='solid',label_color='#FF5733')\n",
    "a_y = Axis(label='Dow Jones Index', scale=y_sc, orientation='vertical', color = 'black', grid_lines='solid',label_offset='50px',label_color='#FF5733')\n",
    "\n",
    "#scatterplot interaction\n",
    "tt = Tooltip(fields=['x','y','name'], labels=['Date', '^DJI','Event'])\n",
    "\n",
    "#scatterplot and linearplot\n",
    "line = Scatter(x=Odate, y=oP, scales={'x': x_sc, 'y': y_sc},default_colors=['#ff80ff'],tooltip = tt, names=Oinfo, display_names = False, interactions = {'hover':'tooltip'})\n",
    "line2 = Lines(x=Odate, y=oP, scales={'x': x_sc, 'y': y_sc})\n",
    "\n",
    "# creating figure (graph)\n",
    "fig = Figure(axes=[a_x, a_y],\n",
    "             marks=[line,line2],\n",
    "             #fig_margin= [top='60', bottom='60', left='160', right='60'],\n",
    "             layout= Layout(min_width='100%', min_height='80%'),\n",
    "             title=\"Obama's Presidency\",\n",
    "             background_style ={'fill': 'lightblue'},\n",
    "             animation_duration=500,\n",
    "             title_style={'font-size': '20px','fill': 'purple'})\n",
    "description = widgets.Text(\n",
    "    value= oDescription,\n",
    "    disabled=True,\n",
    "    layout= Layout(width='50%', height='40px')\n",
    ")\n",
    "\n",
    "# adding toolbar to interact\n",
    "tool = Toolbar(figure = fig)\n"
   ]
  },
  {
   "cell_type": "markdown",
   "metadata": {},
   "source": [
    "## **Jupyter Image and Button Widget**"
   ]
  },
  {
   "cell_type": "code",
   "execution_count": null,
   "metadata": {},
   "outputs": [],
   "source": [
    "#image\n",
    "file = open(\".\\\\obama.jpg\", \"rb\")\n",
    "image = file.read()\n",
    "o = widgets.Image(    \n",
    "    value=image,\n",
    "    format='png',\n",
    "    width=80,\n",
    "    height=80,\n",
    ")\n",
    "file2 = open(\"./bush1.png\", \"rb\")\n",
    "image2 = file2.read()\n",
    "b = widgets.Image(\n",
    "    value=image2,\n",
    "    format='png',\n",
    "    width=80,\n",
    "    height=80,\n",
    ")\n",
    "file3 = open(\".\\\\clinton.png\", \"rb\")\n",
    "image3 = file3.read()\n",
    "c = widgets.Image(\n",
    "    value=image3,\n",
    "    format='png',\n",
    "    width=80,\n",
    "    height=80,\n",
    ")\n",
    "\n",
    "#button\n",
    "obama = widgets.Button(description = \"Obama\",layout= Layout(width='30%', height='80px'),icon= 'star',button_style='info', tooltip='Click me')\n",
    "bush = widgets.Button(description = \"Bush\",layout=obama.layout,icon= 'star',button_style='danger', tooltip='Click me')\n",
    "clinton = widgets.Button(description = \"Clinton\",layout=obama.layout,icon= 'star',button_style='info', tooltip='Click me')\n",
    "clinton.style.button_color = '#5499C7'\n"
   ]
  },
  {
   "cell_type": "markdown",
   "metadata": {
    "collapsed": true
   },
   "source": [
    "**Jupyter Widget Button Interactions**"
   ]
  },
  {
   "cell_type": "code",
   "execution_count": null,
   "metadata": {},
   "outputs": [],
   "source": [
    "def button_obama_clicked(b):\n",
    "    line.y = oP\n",
    "    line.x = Odate\n",
    "    line.names = Oinfo\n",
    "    x_sc.min  = np.datetime64('2008-10-01')\n",
    "    x_sc.max  = np.datetime64('2017-05-01')\n",
    "    line2.y = oP\n",
    "    line2.x = Odate\n",
    "    fig.title = \"Obama's Presidency\"\n",
    "    description.value = oDescription\n",
    "    \n",
    "def button_bush_clicked(b):\n",
    "    line.y = bP\n",
    "    line.x = Bdate\n",
    "    line.names = Binfo\n",
    "    line2.y = bP\n",
    "    line2.x = Bdate\n",
    "    x_sc.min  = np.datetime64('2000-10-01')\n",
    "    x_sc.max  = np.datetime64('2009-06-01')\n",
    "    fig.title = \"Bush's Presidency\" \n",
    "    description.value = bDescription\n",
    "    \n",
    "def button_clinton_clicked(b):\n",
    "    line.y = cP\n",
    "    line.x = Cdate\n",
    "    line.names = Cinfo\n",
    "    line2.y = cP\n",
    "    line2.x = Cdate\n",
    "    x_sc.min  = np.datetime64('1992-10-01')\n",
    "    x_sc.max  = np.datetime64('2001-06-01')\n",
    "    fig.title = \"Clinton's Presidency\"\n",
    "    description.value = cDescription\n",
    "            \n",
    "bush.on_click(button_bush_clicked)\n",
    "\n",
    "obama.on_click(button_obama_clicked)\n",
    "\n",
    "clinton.on_click(button_clinton_clicked)"
   ]
  },
  {
   "cell_type": "markdown",
   "metadata": {},
   "source": [
    "## **Displaying the GUI**"
   ]
  },
  {
   "cell_type": "markdown",
   "metadata": {},
   "source": [
    "#### This is an interactive graph that shows Dow Jones industrial average index changing during three presidencies including key events.\n",
    "#### Click on the presidents name to see the respective graph\n",
    "#### The key events are marked in magenta, hovering over the event marker shows information related to the event.\n",
    "#### Additional features include, a toolbar with panzoom and ability to save as PNG and information about % change in the index value during the presidency \n"
   ]
  },
  {
   "cell_type": "markdown",
   "metadata": {},
   "source": [
    "#### * This is an interactive graph that shows Dow Jones industrial average index changing during three presidencies including key events.\n",
    "Click on the presidents name to see the respective graph\n",
    "The key events are marked in magenta, hovering over the event marker shows information related to the event.\n",
    "Additional features include, a toolbar with panzoom and ability to save as PNG and information about % change in the index value during the presidenc"
   ]
  },
  {
   "cell_type": "code",
   "execution_count": 3,
   "metadata": {},
   "outputs": [
    {
     "ename": "NameError",
     "evalue": "name 'c' is not defined",
     "output_type": "error",
     "traceback": [
      "\u001b[0;31m---------------------------------------------------------------------------\u001b[0m",
      "\u001b[0;31mNameError\u001b[0m                                 Traceback (most recent call last)",
      "\u001b[0;32m<ipython-input-3-aace50b770bf>\u001b[0m in \u001b[0;36m<module>\u001b[0;34m()\u001b[0m\n\u001b[1;32m      1\u001b[0m \u001b[0;34m\u001b[0m\u001b[0m\n\u001b[0;32m----> 2\u001b[0;31m \u001b[0mdisplay\u001b[0m \u001b[0;34m(\u001b[0m\u001b[0mHBox\u001b[0m\u001b[0;34m(\u001b[0m\u001b[0;34m[\u001b[0m\u001b[0mc\u001b[0m\u001b[0;34m,\u001b[0m\u001b[0mclinton\u001b[0m\u001b[0;34m,\u001b[0m\u001b[0mb\u001b[0m\u001b[0;34m,\u001b[0m\u001b[0mbush\u001b[0m\u001b[0;34m,\u001b[0m\u001b[0mo\u001b[0m\u001b[0;34m,\u001b[0m \u001b[0mobama\u001b[0m\u001b[0;34m]\u001b[0m\u001b[0;34m)\u001b[0m\u001b[0;34m)\u001b[0m\u001b[0;34m\u001b[0m\u001b[0m\n\u001b[0m\u001b[1;32m      3\u001b[0m \u001b[0mdisplay\u001b[0m\u001b[0;34m(\u001b[0m\u001b[0mVBox\u001b[0m\u001b[0;34m(\u001b[0m\u001b[0;34m[\u001b[0m\u001b[0mfig\u001b[0m\u001b[0;34m,\u001b[0m\u001b[0mdescription\u001b[0m\u001b[0;34m,\u001b[0m\u001b[0mtool\u001b[0m\u001b[0;34m]\u001b[0m\u001b[0;34m)\u001b[0m\u001b[0;34m)\u001b[0m\u001b[0;34m\u001b[0m\u001b[0m\n",
      "\u001b[0;31mNameError\u001b[0m: name 'c' is not defined"
     ]
    }
   ],
   "source": [
    "\n",
    "display (HBox([c,clinton,b,bush,o, obama]))\n",
    "display(VBox([fig,description,tool]))\n"
   ]
  },
  {
   "cell_type": "code",
   "execution_count": null,
   "metadata": {},
   "outputs": [],
   "source": []
  },
  {
   "cell_type": "code",
   "execution_count": null,
   "metadata": {},
   "outputs": [],
   "source": []
  }
 ],
 "metadata": {
  "kernelspec": {
   "display_name": "Python 3",
   "language": "python",
   "name": "python3"
  },
  "language_info": {
   "codemirror_mode": {
    "name": "ipython",
    "version": 3
   },
   "file_extension": ".py",
   "mimetype": "text/x-python",
   "name": "python",
   "nbconvert_exporter": "python",
   "pygments_lexer": "ipython3",
   "version": "3.6.4"
  }
 },
 "nbformat": 4,
 "nbformat_minor": 2
}
